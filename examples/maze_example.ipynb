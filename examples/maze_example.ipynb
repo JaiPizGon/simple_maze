{
 "cells": [
  {
   "cell_type": "markdown",
   "id": "c2cfe604",
   "metadata": {},
   "source": [
    "# Maze generator and A* solver example\n",
    "This notebook demonstrates generating a maze, solving it with A*, printing an ASCII version, and saving two images (with and without the path)."
   ]
  },
  {
   "cell_type": "code",
   "execution_count": null,
   "id": "12266e00",
   "metadata": {},
   "outputs": [],
   "source": [
    "# Import the package \n",
    "from squared_maze import generate_maze, astar, grid_to_ascii, grid_to_json, save_images, find_valid_cell, make_unsolvable, make_multiple_solutions\n",
    "print('Imports OK')"
   ]
  },
  {
   "cell_type": "code",
   "execution_count": null,
   "id": "257f1f1f",
   "metadata": {},
   "outputs": [],
   "source": [
    "# Generate and solve a maze\n",
    "rows, cols = 1, 2\n",
    "grid = generate_maze(rows, cols, seed=41)\n",
    "start = find_valid_cell(grid, seed=42)\n",
    "end = find_valid_cell(grid, exclude={start}, seed=99)\n",
    "path = astar(grid, start, end)\n",
    "print('Path found:', path is not None)\n",
    "print('ASCII representation:')\n",
    "print(grid_to_ascii(grid, path, start, end, start_sym='S', end_sym='E', path_sym='*', walkable_sym='.', wall_sym=\"#\", include_header=True, include_index=True))"
   ]
  },
  {
   "cell_type": "code",
   "execution_count": null,
   "id": "7c34a645",
   "metadata": {},
   "outputs": [],
   "source": [
    "print(grid_to_json(grid, start, end))"
   ]
  },
  {
   "cell_type": "code",
   "execution_count": null,
   "id": "b2c7f2a9",
   "metadata": {},
   "outputs": [],
   "source": [
    "# Save images and display them inline\n",
    "from IPython.display import display\n",
    "from PIL import Image\n",
    "fn_no, fn_yes = save_images(grid, path, start, end, cell_size=40, out_prefix='maze_example_out')\n",
    "print('Saved:', fn_no, fn_yes)\n",
    "display(Image.open(fn_no))\n",
    "display(Image.open(fn_yes))"
   ]
  },
  {
   "cell_type": "markdown",
   "id": "13a1aa6a",
   "metadata": {},
   "source": [
    "## Unsolvable maze\n",
    "In this section we make a copy of the generated maze and modify it so that there is no path between the chosen start and end."
   ]
  },
  {
   "cell_type": "code",
   "execution_count": null,
   "id": "cae72a38",
   "metadata": {},
   "outputs": [],
   "source": [
    "# Create an unsolvable variant by blocking part of the path\n",
    "import copy\n",
    "g_uns = copy.deepcopy(grid)\n",
    "made_uns = make_unsolvable(g_uns, start, end, astar, seed=123)\n",
    "print('Made unsolvable:', made_uns)\n",
    "print('Path exists after modification:', astar(g_uns, start, end) is not None)\n",
    "print('ASCII:')\n",
    "print(grid_to_ascii(g_uns, astar(g_uns, start, end), start, end, start_sym='@', end_sym='#', path_sym='*', walkable_sym='.'))\n",
    "fn_no, fn_yes = save_images(g_uns, None, start, end, cell_size=40, out_prefix='maze_unsolvable')\n",
    "print('Saved:', fn_no, fn_yes)\n",
    "from IPython.display import display\n",
    "from PIL import Image\n",
    "display(Image.open(fn_no))\n",
    "display(Image.open(fn_yes))"
   ]
  },
  {
   "cell_type": "markdown",
   "id": "a73538ef",
   "metadata": {},
   "source": [
    "## Multiple-solution maze\n",
    "In this section we attempt to create an alternate route between start and end by removing suitable walls."
   ]
  },
  {
   "cell_type": "code",
   "execution_count": null,
   "id": "4bf60507",
   "metadata": {},
   "outputs": [],
   "source": [
    "# Create a variant with multiple solutions\n",
    "import copy\n",
    "g_multi = copy.deepcopy(grid)\n",
    "made_multi = make_multiple_solutions(g_multi, start, end, astar, seed=456)\n",
    "print('Made multiple solutions:', made_multi)\n",
    "print('Original path length:', len(path) if path else None)\n",
    "new_path = astar(g_multi, start, end)\n",
    "print('New path length:', len(new_path) if new_path else None)\n",
    "print('ASCII:')\n",
    "print(grid_to_ascii(g_multi, new_path, start, end, start_sym='@', end_sym='#', path_sym='*', walkable_sym='.'))\n",
    "fn_no, fn_yes = save_images(g_multi, new_path, start, end, cell_size=40, out_prefix='maze_multiple')\n",
    "print('Saved:', fn_no, fn_yes)\n",
    "from IPython.display import display\n",
    "from PIL import Image\n",
    "display(Image.open(fn_no))\n",
    "display(Image.open(fn_yes))"
   ]
  }
 ],
 "metadata": {
  "kernelspec": {
   "display_name": "squared_maze",
   "language": "python",
   "name": "python3"
  },
  "language_info": {
   "codemirror_mode": {
    "name": "ipython",
    "version": 3
   },
   "file_extension": ".py",
   "mimetype": "text/x-python",
   "name": "python",
   "nbconvert_exporter": "python",
   "pygments_lexer": "ipython3",
   "version": "3.13.5"
  }
 },
 "nbformat": 4,
 "nbformat_minor": 5
}
